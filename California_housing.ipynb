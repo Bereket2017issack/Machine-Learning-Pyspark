{
  "nbformat": 4,
  "nbformat_minor": 0,
  "metadata": {
    "colab": {
      "name": "California_housing.ipynb",
      "provenance": [],
      "toc_visible": true
    },
    "kernelspec": {
      "name": "python3",
      "display_name": "Python 3"
    }
  },
  "cells": [
    {
      "cell_type": "markdown",
      "metadata": {
        "id": "o5NURCOl828i",
        "colab_type": "text"
      },
      "source": [
        "\n",
        "# About the dataset\n",
        "\n"
      ]
    },
    {
      "cell_type": "markdown",
      "metadata": {
        "id": "hniKqyFq89Vh",
        "colab_type": "text"
      },
      "source": [
        "##### The California Housing data set appeared in a 1997 paper titled Sparse Spatial Autoregressions, written by Pace, R. Kelley and Ronald Barry and published in the Statistics and Probability Letters journal. The researchers built this data set by using the 1990 California census data.\n",
        "\n",
        "##### The data contains one row per census block group. A block group is the smallest geographical unit for which the U.S. Census Bureau publishes sample data (a block group typically has a population of 600 to 3,000 people). In this sample a block group on average includes 1425.5 individuals living in a geographically compact area.\n",
        "\n",
        "##### These spatial data contain 20,640 observations on housing prices with 9 economic variables:\n",
        "\n",
        "#####What's more, we also learn that all the block groups have zero entries for the independent and dependent variables have been excluded from the data.\n",
        "\n",
        "#####The Median house value is the dependent variable and will be assigned the role of the target variable in our ML model."
      ]
    },
    {
      "cell_type": "code",
      "metadata": {
        "id": "TB7bqCcU8gIa",
        "colab_type": "code",
        "colab": {}
      },
      "source": [
        "#install the Spark\n",
        "!apt-get install openjdk-8-jdk-headless -qq > /dev/null\n",
        "!wget -q http://www-eu.apache.org/dist/spark/spark-3.0.0/spark-3.0.0-bin-hadoop2.7.tgz\n",
        "!tar xf spark-3.0.0-bin-hadoop2.7.tgz\n",
        "!pip install -q findspark\n",
        "\n",
        "import os\n",
        "os.environ[\"JAVA_HOME\"] = \"/usr/lib/jvm/java-8-openjdk-amd64\"\n",
        "os.environ[\"SPARK_HOME\"] = \"/content/spark-3.0.0-bin-hadoop2.7\"\n",
        "\n",
        "import findspark\n",
        "findspark.init()"
      ],
      "execution_count": 1,
      "outputs": []
    },
    {
      "cell_type": "code",
      "metadata": {
        "id": "GsDJhT5h90-n",
        "colab_type": "code",
        "colab": {}
      },
      "source": [
        "# import all necessary libraries and modules\n",
        "\n",
        "import os\n",
        "import pandas as pd\n",
        "import numpy as np"
      ],
      "execution_count": 2,
      "outputs": []
    },
    {
      "cell_type": "code",
      "metadata": {
        "id": "k7aq8Xcz_uW6",
        "colab_type": "code",
        "colab": {}
      },
      "source": [
        "# pyspark libraries and functions\n",
        "from pyspark import SparkConf, SparkContext\n",
        "from pyspark.sql import SparkSession, SQLContext\n",
        "\n",
        "from pyspark.sql.types import *\n",
        "import pyspark.sql.functions as F\n",
        "from pyspark.sql.functions import udf, col\n",
        "\n",
        "from pyspark.ml.regression import LinearRegression\n",
        "from pyspark.mllib.evaluation import RegressionMetrics\n",
        "\n",
        "from pyspark.ml.tuning import ParamGridBuilder, CrossValidator, CrossValidatorModel\n",
        "from pyspark.ml.feature import VectorAssembler, StandardScaler\n",
        "from pyspark.ml.evaluation import RegressionEvaluator"
      ],
      "execution_count": 3,
      "outputs": []
    },
    {
      "cell_type": "code",
      "metadata": {
        "id": "-rwg3FLrAG7W",
        "colab_type": "code",
        "colab": {
          "base_uri": "https://localhost:8080/",
          "height": 71
        },
        "outputId": "d08ff1ea-d802-4f6b-f62c-0286002c6581"
      },
      "source": [
        "# import python visualization libraries\n",
        "\n",
        "import seaborn as sns\n",
        "import matplotlib.pyplot as plt"
      ],
      "execution_count": 4,
      "outputs": [
        {
          "output_type": "stream",
          "text": [
            "/usr/local/lib/python3.6/dist-packages/statsmodels/tools/_testing.py:19: FutureWarning: pandas.util.testing is deprecated. Use the functions in the public API at pandas.testing instead.\n",
            "  import pandas.util.testing as tm\n"
          ],
          "name": "stderr"
        }
      ]
    },
    {
      "cell_type": "code",
      "metadata": {
        "id": "rEH6Lw38AWM4",
        "colab_type": "code",
        "colab": {}
      },
      "source": [
        "# setting random seed for notebook reproducability\n",
        "rnd_seed=23\n",
        "np.random.seed=rnd_seed\n",
        "np.random.set_state=rnd_seed"
      ],
      "execution_count": 5,
      "outputs": []
    },
    {
      "cell_type": "markdown",
      "metadata": {
        "id": "2RSRzbjgA3Jp",
        "colab_type": "text"
      },
      "source": [
        "# create the spark session"
      ]
    },
    {
      "cell_type": "code",
      "metadata": {
        "id": "o3WTrohEArq3",
        "colab_type": "code",
        "colab": {}
      },
      "source": [
        "spark = SparkSession.builder.master('local[2]').appName('California-Housing-Linear-Regression').getOrCreate()"
      ],
      "execution_count": 6,
      "outputs": []
    },
    {
      "cell_type": "code",
      "metadata": {
        "id": "OBxsQH_bBZbg",
        "colab_type": "code",
        "colab": {
          "base_uri": "https://localhost:8080/",
          "height": 216
        },
        "outputId": "7832379d-5b37-4150-b07e-71741a3aa0d0"
      },
      "source": [
        "#lets see what does that spark specification show\n",
        "spark"
      ],
      "execution_count": 7,
      "outputs": [
        {
          "output_type": "execute_result",
          "data": {
            "text/html": [
              "\n",
              "            <div>\n",
              "                <p><b>SparkSession - in-memory</b></p>\n",
              "                \n",
              "        <div>\n",
              "            <p><b>SparkContext</b></p>\n",
              "\n",
              "            <p><a href=\"http://09e8c308a32e:4040\">Spark UI</a></p>\n",
              "\n",
              "            <dl>\n",
              "              <dt>Version</dt>\n",
              "                <dd><code>v3.0.0</code></dd>\n",
              "              <dt>Master</dt>\n",
              "                <dd><code>local[2]</code></dd>\n",
              "              <dt>AppName</dt>\n",
              "                <dd><code>California-Housing-Linear-Regression</code></dd>\n",
              "            </dl>\n",
              "        </div>\n",
              "        \n",
              "            </div>\n",
              "        "
            ],
            "text/plain": [
              "<pyspark.sql.session.SparkSession at 0x7fa5d92cd3c8>"
            ]
          },
          "metadata": {
            "tags": []
          },
          "execution_count": 7
        }
      ]
    },
    {
      "cell_type": "code",
      "metadata": {
        "id": "Q8CtfDrJBxQP",
        "colab_type": "code",
        "colab": {
          "base_uri": "https://localhost:8080/",
          "height": 193
        },
        "outputId": "db340ee2-68a8-4d32-b3b7-81637e1aafbe"
      },
      "source": [
        "# lets create spark context \n",
        "sc = spark.sparkContext\n",
        "sc"
      ],
      "execution_count": 8,
      "outputs": [
        {
          "output_type": "execute_result",
          "data": {
            "text/html": [
              "\n",
              "        <div>\n",
              "            <p><b>SparkContext</b></p>\n",
              "\n",
              "            <p><a href=\"http://09e8c308a32e:4040\">Spark UI</a></p>\n",
              "\n",
              "            <dl>\n",
              "              <dt>Version</dt>\n",
              "                <dd><code>v3.0.0</code></dd>\n",
              "              <dt>Master</dt>\n",
              "                <dd><code>local[2]</code></dd>\n",
              "              <dt>AppName</dt>\n",
              "                <dd><code>California-Housing-Linear-Regression</code></dd>\n",
              "            </dl>\n",
              "        </div>\n",
              "        "
            ],
            "text/plain": [
              "<SparkContext master=local[2] appName=California-Housing-Linear-Regression>"
            ]
          },
          "metadata": {
            "tags": []
          },
          "execution_count": 8
        }
      ]
    },
    {
      "cell_type": "code",
      "metadata": {
        "id": "dfNQJxT-CiGr",
        "colab_type": "code",
        "colab": {
          "base_uri": "https://localhost:8080/",
          "height": 34
        },
        "outputId": "d775fa86-2359-42d6-e0a2-41e7fbdd3009"
      },
      "source": [
        "# lets also create the sql context\n",
        "\n",
        "sqlContext = SQLContext(spark.sparkContext)\n",
        "sqlContext"
      ],
      "execution_count": 9,
      "outputs": [
        {
          "output_type": "execute_result",
          "data": {
            "text/plain": [
              "<pyspark.sql.context.SQLContext at 0x7fa5d92c3898>"
            ]
          },
          "metadata": {
            "tags": []
          },
          "execution_count": 9
        }
      ]
    },
    {
      "cell_type": "code",
      "metadata": {
        "id": "Il7oM4O4E9he",
        "colab_type": "code",
        "colab": {
          "base_uri": "https://localhost:8080/",
          "height": 34
        },
        "outputId": "64705242-ee63-4d34-a72f-f2c9267ef161"
      },
      "source": [
        "# unzip the file \n",
        "from zipfile import ZipFile\n",
        "file_name = \"cal_housing.zip\"\n",
        "\n",
        "with ZipFile(file_name, 'r') as zip:\n",
        "  zip.extractall()\n",
        "  print('done')"
      ],
      "execution_count": 10,
      "outputs": [
        {
          "output_type": "stream",
          "text": [
            "done\n"
          ],
          "name": "stdout"
        }
      ]
    },
    {
      "cell_type": "code",
      "metadata": {
        "id": "6XAiaVjJDBJd",
        "colab_type": "code",
        "colab": {
          "base_uri": "https://localhost:8080/",
          "height": 35
        },
        "outputId": "cc0145e6-573b-4505-99cb-f54f1b81d8ee"
      },
      "source": [
        "file_name"
      ],
      "execution_count": 11,
      "outputs": [
        {
          "output_type": "execute_result",
          "data": {
            "application/vnd.google.colaboratory.intrinsic+json": {
              "type": "string"
            },
            "text/plain": [
              "'cal_housing.zip'"
            ]
          },
          "metadata": {
            "tags": []
          },
          "execution_count": 11
        }
      ]
    },
    {
      "cell_type": "code",
      "metadata": {
        "id": "rJLnACsWIZNU",
        "colab_type": "code",
        "colab": {}
      },
      "source": [
        "# define the schema, corresponding to a line in the csv data file.\n",
        "schema = StructType([\n",
        "    StructField(\"long\", FloatType(), nullable=True),\n",
        "    StructField(\"lat\", FloatType(), nullable=True),\n",
        "    StructField(\"medage\", FloatType(), nullable=True),\n",
        "    StructField(\"totrooms\", FloatType(), nullable=True),\n",
        "    StructField(\"totbdrms\", FloatType(), nullable=True),\n",
        "    StructField(\"pop\", FloatType(), nullable=True),\n",
        "    StructField(\"houshlds\", FloatType(), nullable=True),\n",
        "    StructField(\"medinc\", FloatType(), nullable=True),\n",
        "    StructField(\"medhv\", FloatType(), nullable=True)]\n",
        ")"
      ],
      "execution_count": 12,
      "outputs": []
    },
    {
      "cell_type": "code",
      "metadata": {
        "id": "Vj2H6YTiJknQ",
        "colab_type": "code",
        "colab": {}
      },
      "source": [
        ""
      ],
      "execution_count": 13,
      "outputs": []
    },
    {
      "cell_type": "code",
      "metadata": {
        "id": "Vm25U5ngF678",
        "colab_type": "code",
        "colab": {}
      },
      "source": [
        "# load cal_housing dateset\n",
        "\n",
        "housing_df = spark.read.csv(path='cal_housing.data', schema=schema).cache()"
      ],
      "execution_count": 13,
      "outputs": []
    },
    {
      "cell_type": "code",
      "metadata": {
        "id": "2mUSEp7RGkNy",
        "colab_type": "code",
        "colab": {
          "base_uri": "https://localhost:8080/",
          "height": 204
        },
        "outputId": "75f81b83-fe0e-4826-9e3a-1347f0f139a8"
      },
      "source": [
        "housing_df.show(5)"
      ],
      "execution_count": 14,
      "outputs": [
        {
          "output_type": "stream",
          "text": [
            "+-------+-----+------+--------+--------+------+--------+------+--------+\n",
            "|   long|  lat|medage|totrooms|totbdrms|   pop|houshlds|medinc|   medhv|\n",
            "+-------+-----+------+--------+--------+------+--------+------+--------+\n",
            "|-122.23|37.88|  41.0|   880.0|   129.0| 322.0|   126.0|8.3252|452600.0|\n",
            "|-122.22|37.86|  21.0|  7099.0|  1106.0|2401.0|  1138.0|8.3014|358500.0|\n",
            "|-122.24|37.85|  52.0|  1467.0|   190.0| 496.0|   177.0|7.2574|352100.0|\n",
            "|-122.25|37.85|  52.0|  1274.0|   235.0| 558.0|   219.0|5.6431|341300.0|\n",
            "|-122.25|37.85|  52.0|  1627.0|   280.0| 565.0|   259.0|3.8462|342200.0|\n",
            "+-------+-----+------+--------+--------+------+--------+------+--------+\n",
            "only showing top 5 rows\n",
            "\n"
          ],
          "name": "stdout"
        }
      ]
    },
    {
      "cell_type": "code",
      "metadata": {
        "id": "zGlruf2cG4nk",
        "colab_type": "code",
        "colab": {
          "base_uri": "https://localhost:8080/",
          "height": 170
        },
        "outputId": "c78a1975-6539-43c0-fcfb-7e02a4ae6a4a"
      },
      "source": [
        "# show the fields of the data \n",
        "\n",
        "housing_df.columns"
      ],
      "execution_count": 15,
      "outputs": [
        {
          "output_type": "execute_result",
          "data": {
            "text/plain": [
              "['long',\n",
              " 'lat',\n",
              " 'medage',\n",
              " 'totrooms',\n",
              " 'totbdrms',\n",
              " 'pop',\n",
              " 'houshlds',\n",
              " 'medinc',\n",
              " 'medhv']"
            ]
          },
          "metadata": {
            "tags": []
          },
          "execution_count": 15
        }
      ]
    },
    {
      "cell_type": "code",
      "metadata": {
        "id": "g9GxFYzMi39e",
        "colab_type": "code",
        "colab": {
          "base_uri": "https://localhost:8080/",
          "height": 204
        },
        "outputId": "f7f318eb-ffcb-4883-edd0-49246965f014"
      },
      "source": [
        "# now lets see the schema now\n",
        "housing_df.printSchema()"
      ],
      "execution_count": 16,
      "outputs": [
        {
          "output_type": "stream",
          "text": [
            "root\n",
            " |-- long: float (nullable = true)\n",
            " |-- lat: float (nullable = true)\n",
            " |-- medage: float (nullable = true)\n",
            " |-- totrooms: float (nullable = true)\n",
            " |-- totbdrms: float (nullable = true)\n",
            " |-- pop: float (nullable = true)\n",
            " |-- houshlds: float (nullable = true)\n",
            " |-- medinc: float (nullable = true)\n",
            " |-- medhv: float (nullable = true)\n",
            "\n"
          ],
          "name": "stdout"
        }
      ]
    },
    {
      "cell_type": "markdown",
      "metadata": {
        "id": "kj3NuIckmKi2",
        "colab_type": "text"
      },
      "source": [
        "# Data Exploration"
      ]
    },
    {
      "cell_type": "code",
      "metadata": {
        "id": "CL7hkKh6jHdU",
        "colab_type": "code",
        "colab": {
          "base_uri": "https://localhost:8080/",
          "height": 374
        },
        "outputId": "fa194e2f-a398-4ba9-a954-fe59f06001d7"
      },
      "source": [
        "# lets see a sample of it \n",
        "housing_df.select('medinc', 'totrooms').show(15)"
      ],
      "execution_count": 17,
      "outputs": [
        {
          "output_type": "stream",
          "text": [
            "+------+--------+\n",
            "|medinc|totrooms|\n",
            "+------+--------+\n",
            "|8.3252|   880.0|\n",
            "|8.3014|  7099.0|\n",
            "|7.2574|  1467.0|\n",
            "|5.6431|  1274.0|\n",
            "|3.8462|  1627.0|\n",
            "|4.0368|   919.0|\n",
            "|3.6591|  2535.0|\n",
            "|  3.12|  3104.0|\n",
            "|2.0804|  2555.0|\n",
            "|3.6912|  3549.0|\n",
            "|3.2031|  2202.0|\n",
            "|3.2705|  3503.0|\n",
            "| 3.075|  2491.0|\n",
            "|2.6736|   696.0|\n",
            "|1.9167|  2643.0|\n",
            "+------+--------+\n",
            "only showing top 15 rows\n",
            "\n"
          ],
          "name": "stdout"
        }
      ]
    },
    {
      "cell_type": "code",
      "metadata": {
        "id": "dB4xqBxDmnHT",
        "colab_type": "code",
        "colab": {
          "base_uri": "https://localhost:8080/",
          "height": 289
        },
        "outputId": "05f5113a-c518-4176-bb97-95b773bfb998"
      },
      "source": [
        "# show the grouping by medage\n",
        "\n",
        "med_df = housing_df.groupBy('medage').count().sort('medage', ascending=False)\n",
        "med_df.show(10)"
      ],
      "execution_count": 18,
      "outputs": [
        {
          "output_type": "stream",
          "text": [
            "+------+-----+\n",
            "|medage|count|\n",
            "+------+-----+\n",
            "|  52.0| 1273|\n",
            "|  51.0|   48|\n",
            "|  50.0|  136|\n",
            "|  49.0|  134|\n",
            "|  48.0|  177|\n",
            "|  47.0|  198|\n",
            "|  46.0|  245|\n",
            "|  45.0|  294|\n",
            "|  44.0|  356|\n",
            "|  43.0|  353|\n",
            "+------+-----+\n",
            "only showing top 10 rows\n",
            "\n"
          ],
          "name": "stdout"
        }
      ]
    },
    {
      "cell_type": "code",
      "metadata": {
        "id": "Lk3-imn1nkhr",
        "colab_type": "code",
        "colab": {
          "base_uri": "https://localhost:8080/",
          "height": 472
        },
        "outputId": "dd3f26bf-32fb-4042-dd13-f2334d5b195f"
      },
      "source": [
        "# visualize the medage distribution\n",
        "\n",
        "med_df.toPandas().plot.bar(x='medage', figsize=(14, 7))\n",
        "\n"
      ],
      "execution_count": 19,
      "outputs": [
        {
          "output_type": "execute_result",
          "data": {
            "text/plain": [
              "<matplotlib.axes._subplots.AxesSubplot at 0x7fa5d8a2f240>"
            ]
          },
          "metadata": {
            "tags": []
          },
          "execution_count": 19
        },
        {
          "output_type": "display_data",
          "data": {
            "image/png": "[encoded data removed]",
            "text/plain": [
              "<Figure size 1008x504 with 1 Axes>"
            ]
          },
          "metadata": {
            "tags": [],
            "needs_background": "light"
          }
        }
      ]
    },
    {
      "cell_type": "markdown",
      "metadata": {
        "id": "-ws62WjpxwBf",
        "colab_type": "text"
      },
      "source": [
        "##### the above bar graph shows that most of the people at their youth age, there are also considerable amount of people who are senoirs. "
      ]
    },
    {
      "cell_type": "markdown",
      "metadata": {
        "id": "-ph15ejfyQQO",
        "colab_type": "text"
      },
      "source": [
        "# Summary of the dataset"
      ]
    },
    {
      "cell_type": "code",
      "metadata": {
        "id": "4LtIQ1y7rmwg",
        "colab_type": "code",
        "colab": {
          "base_uri": "https://localhost:8080/",
          "height": 187
        },
        "outputId": "e1bbe454-9248-43d9-eedf-89b93527331a"
      },
      "source": [
        "housing_df.describe().select(\"summary\",\n",
        "                             F.round(\"medage\", 4).alias(\"medage\"),\n",
        "                             F.round(\"totrooms\", 4).alias(\"totrooms\"),\n",
        "                             F.round(\"totbdrms\", 4).alias(\"totbdrms\"),\n",
        "                             F.round(\"pop\", 4).alias(\"pop\"),\n",
        "                             F.round(\"houshlds\", 4).alias(\"houshlds\"),\n",
        "                             F.round(\"medinc\", 4).alias(\"medinc\"),\n",
        "                             F.round(\"medhv\", 4).alias(\"medhv\")).show()"
      ],
      "execution_count": 20,
      "outputs": [
        {
          "output_type": "stream",
          "text": [
            "+-------+-------+---------+--------+---------+--------+-------+-----------+\n",
            "|summary| medage| totrooms|totbdrms|      pop|houshlds| medinc|      medhv|\n",
            "+-------+-------+---------+--------+---------+--------+-------+-----------+\n",
            "|  count|20640.0|  20640.0| 20640.0|  20640.0| 20640.0|20640.0|    20640.0|\n",
            "|   mean|28.6395|2635.7631| 537.898|1425.4767|499.5397| 3.8707|206855.8169|\n",
            "| stddev|12.5856|2181.6153|421.2479|1132.4621|382.3298| 1.8998|115395.6159|\n",
            "|    min|    1.0|      2.0|     1.0|      3.0|     1.0| 0.4999|    14999.0|\n",
            "|    max|   52.0|  39320.0|  6445.0|  35682.0|  6082.0|15.0001|   500001.0|\n",
            "+-------+-------+---------+--------+---------+--------+-------+-----------+\n",
            "\n"
          ],
          "name": "stdout"
        }
      ]
    },
    {
      "cell_type": "markdown",
      "metadata": {
        "id": "iQsKrLwW36A4",
        "colab_type": "text"
      },
      "source": [
        "##### the summary shows that almost all of the numerical values have a wide range between min and max values. This indicates that our data would need normalization before we proceed with building the model"
      ]
    },
    {
      "cell_type": "markdown",
      "metadata": {
        "id": "MtTmcp3a4Ot3",
        "colab_type": "text"
      },
      "source": [
        "# Preprocessing"
      ]
    },
    {
      "cell_type": "markdown",
      "metadata": {
        "id": "d4LpQPj2Rmnc",
        "colab_type": "text"
      },
      "source": [
        "### Things we should consider before we proceed with preprocessing\n",
        "\n",
        "###### All the missing values are handled\n",
        "###### we shall definitely normalize our data as we have seen it from the previouse graph that there big range between the values\n",
        "###### The dependent variable medhv values are large values and it should be normalized"
      ]
    },
    {
      "cell_type": "code",
      "metadata": {
        "id": "_AFWo7LVyWsU",
        "colab_type": "code",
        "colab": {}
      },
      "source": [
        "# lets adjust the medhv by dividing 100,000\n",
        "\n",
        "housing_df = housing_df.withColumn(\"medhv\", col(\"medhv\")/100000)"
      ],
      "execution_count": 21,
      "outputs": []
    },
    {
      "cell_type": "code",
      "metadata": {
        "id": "6YZzAn6xTxWO",
        "colab_type": "code",
        "colab": {
          "base_uri": "https://localhost:8080/",
          "height": 170
        },
        "outputId": "dfff35fa-75b4-469e-f93d-f313ad401e18"
      },
      "source": [
        "housing_df.show(3)"
      ],
      "execution_count": 22,
      "outputs": [
        {
          "output_type": "stream",
          "text": [
            "+-------+-----+------+--------+--------+------+--------+------+-----+\n",
            "|   long|  lat|medage|totrooms|totbdrms|   pop|houshlds|medinc|medhv|\n",
            "+-------+-----+------+--------+--------+------+--------+------+-----+\n",
            "|-122.23|37.88|  41.0|   880.0|   129.0| 322.0|   126.0|8.3252|4.526|\n",
            "|-122.22|37.86|  21.0|  7099.0|  1106.0|2401.0|  1138.0|8.3014|3.585|\n",
            "|-122.24|37.85|  52.0|  1467.0|   190.0| 496.0|   177.0|7.2574|3.521|\n",
            "+-------+-----+------+--------+--------+------+--------+------+-----+\n",
            "only showing top 3 rows\n",
            "\n"
          ],
          "name": "stdout"
        }
      ]
    },
    {
      "cell_type": "markdown",
      "metadata": {
        "id": "icL8vDkbVgJA",
        "colab_type": "text"
      },
      "source": [
        "# Feature Engineering"
      ]
    },
    {
      "cell_type": "code",
      "metadata": {
        "id": "EpD44IUFT3t9",
        "colab_type": "code",
        "colab": {
          "base_uri": "https://localhost:8080/",
          "height": 170
        },
        "outputId": "bf0899b4-7c06-4bcd-bd00-b492b7f3d8d5"
      },
      "source": [
        "# again see the columns\n",
        "housing_df.columns"
      ],
      "execution_count": 23,
      "outputs": [
        {
          "output_type": "execute_result",
          "data": {
            "text/plain": [
              "['long',\n",
              " 'lat',\n",
              " 'medage',\n",
              " 'totrooms',\n",
              " 'totbdrms',\n",
              " 'pop',\n",
              " 'houshlds',\n",
              " 'medinc',\n",
              " 'medhv']"
            ]
          },
          "metadata": {
            "tags": []
          },
          "execution_count": 23
        }
      ]
    },
    {
      "cell_type": "code",
      "metadata": {
        "id": "qhDXCyU4VozY",
        "colab_type": "code",
        "colab": {}
      },
      "source": [
        "# adding new columns to create new columns\n",
        "\n",
        "housing_df = (housing_df.withColumn('rmsperhh', F.round(col('totrooms')/col(\"houshlds\"), 2)).withColumn(\"popperhh\", F.round(col(\"pop\")/col(\"houshlds\"), 2)).withColumn(\"bdrmsperrm\", F.round(col(\"totbdrms\")/col(\"totrooms\"),2)))"
      ],
      "execution_count": 24,
      "outputs": []
    },
    {
      "cell_type": "code",
      "metadata": {
        "id": "Db6ZgLvMaIW0",
        "colab_type": "code",
        "colab": {
          "base_uri": "https://localhost:8080/",
          "height": 170
        },
        "outputId": "9b615149-45ba-4126-81be-272dc4b266a6"
      },
      "source": [
        "# check the results\n",
        "housing_df.show(3)"
      ],
      "execution_count": 25,
      "outputs": [
        {
          "output_type": "stream",
          "text": [
            "+-------+-----+------+--------+--------+------+--------+------+-----+--------+--------+----------+\n",
            "|   long|  lat|medage|totrooms|totbdrms|   pop|houshlds|medinc|medhv|rmsperhh|popperhh|bdrmsperrm|\n",
            "+-------+-----+------+--------+--------+------+--------+------+-----+--------+--------+----------+\n",
            "|-122.23|37.88|  41.0|   880.0|   129.0| 322.0|   126.0|8.3252|4.526|    6.98|    2.56|      0.15|\n",
            "|-122.22|37.86|  21.0|  7099.0|  1106.0|2401.0|  1138.0|8.3014|3.585|    6.24|    2.11|      0.16|\n",
            "|-122.24|37.85|  52.0|  1467.0|   190.0| 496.0|   177.0|7.2574|3.521|    8.29|     2.8|      0.13|\n",
            "+-------+-----+------+--------+--------+------+--------+------+-----+--------+--------+----------+\n",
            "only showing top 3 rows\n",
            "\n"
          ],
          "name": "stdout"
        }
      ]
    },
    {
      "cell_type": "markdown",
      "metadata": {
        "id": "1CxQi6YQc-vB",
        "colab_type": "text"
      },
      "source": [
        "##### Now we can select out columns that are actually to be used for the creating the model "
      ]
    },
    {
      "cell_type": "code",
      "metadata": {
        "id": "8yUeNFu_aPIq",
        "colab_type": "code",
        "colab": {}
      },
      "source": [
        "# use the select to select the columns we need for the next process\n",
        "\n",
        "housing_df = housing_df.select(\"medhv\",\n",
        "                               \"totbdrms\",\n",
        "                               \"pop\",\n",
        "                               \"houshlds\",\n",
        "                               \"medinc\",\n",
        "                               \"rmsperhh\",\n",
        "                               \"popperhh\",\n",
        "                               \"bdrmsperrm\")"
      ],
      "execution_count": 26,
      "outputs": []
    },
    {
      "cell_type": "markdown",
      "metadata": {
        "id": "XZXszmh8gMNt",
        "colab_type": "text"
      },
      "source": [
        "# Feature Extraction"
      ]
    },
    {
      "cell_type": "code",
      "metadata": {
        "id": "DqpmuES1f_YA",
        "colab_type": "code",
        "colab": {}
      },
      "source": [
        "# lets normalize all the features now\n",
        "\n",
        "selected_cols = [\"totbdrms\", \"pop\", \"houshlds\", \"medinc\", \"rmsperhh\", \"popperhh\", \"bdrmsperrm\"]"
      ],
      "execution_count": 27,
      "outputs": []
    },
    {
      "cell_type": "code",
      "metadata": {
        "id": "cNEu6kgMgnuP",
        "colab_type": "code",
        "colab": {}
      },
      "source": [
        "# now we will put them in feature columns\n",
        "assembler = VectorAssembler(inputCols=selected_cols, outputCol= \"features\")\n",
        "assembler_df = assembler.transform(housing_df)"
      ],
      "execution_count": 28,
      "outputs": []
    },
    {
      "cell_type": "code",
      "metadata": {
        "id": "J4Z1iyTqhMSl",
        "colab_type": "code",
        "colab": {
          "base_uri": "https://localhost:8080/",
          "height": 309
        },
        "outputId": "df1d3a14-94db-4154-96ea-3c02dcd78478"
      },
      "source": [
        "assembler_df.show(10, truncate=False)"
      ],
      "execution_count": 29,
      "outputs": [
        {
          "output_type": "stream",
          "text": [
            "+-----+--------+------+--------+------+--------+--------+----------+-------------------------------------------------------+\n",
            "|medhv|totbdrms|pop   |houshlds|medinc|rmsperhh|popperhh|bdrmsperrm|features                                               |\n",
            "+-----+--------+------+--------+------+--------+--------+----------+-------------------------------------------------------+\n",
            "|4.526|129.0   |322.0 |126.0   |8.3252|6.98    |2.56    |0.15      |[129.0,322.0,126.0,8.325200080871582,6.98,2.56,0.15]   |\n",
            "|3.585|1106.0  |2401.0|1138.0  |8.3014|6.24    |2.11    |0.16      |[1106.0,2401.0,1138.0,8.301400184631348,6.24,2.11,0.16]|\n",
            "|3.521|190.0   |496.0 |177.0   |7.2574|8.29    |2.8     |0.13      |[190.0,496.0,177.0,7.257400035858154,8.29,2.8,0.13]    |\n",
            "|3.413|235.0   |558.0 |219.0   |5.6431|5.82    |2.55    |0.18      |[235.0,558.0,219.0,5.643099784851074,5.82,2.55,0.18]   |\n",
            "|3.422|280.0   |565.0 |259.0   |3.8462|6.28    |2.18    |0.17      |[280.0,565.0,259.0,3.8461999893188477,6.28,2.18,0.17]  |\n",
            "|2.697|213.0   |413.0 |193.0   |4.0368|4.76    |2.14    |0.23      |[213.0,413.0,193.0,4.036799907684326,4.76,2.14,0.23]   |\n",
            "|2.992|489.0   |1094.0|514.0   |3.6591|4.93    |2.13    |0.19      |[489.0,1094.0,514.0,3.65910005569458,4.93,2.13,0.19]   |\n",
            "|2.414|687.0   |1157.0|647.0   |3.12  |4.8     |1.79    |0.22      |[687.0,1157.0,647.0,3.119999885559082,4.8,1.79,0.22]   |\n",
            "|2.267|665.0   |1206.0|595.0   |2.0804|4.29    |2.03    |0.26      |[665.0,1206.0,595.0,2.080399990081787,4.29,2.03,0.26]  |\n",
            "|2.611|707.0   |1551.0|714.0   |3.6912|4.97    |2.17    |0.2       |[707.0,1551.0,714.0,3.691200017929077,4.97,2.17,0.2]   |\n",
            "+-----+--------+------+--------+------+--------+--------+----------+-------------------------------------------------------+\n",
            "only showing top 10 rows\n",
            "\n"
          ],
          "name": "stdout"
        }
      ]
    },
    {
      "cell_type": "markdown",
      "metadata": {
        "id": "vpQb5D6KjVDT",
        "colab_type": "text"
      },
      "source": [
        "##### the fatures are in Dense Vector"
      ]
    },
    {
      "cell_type": "markdown",
      "metadata": {
        "id": "V3aAMsNJlVtf",
        "colab_type": "text"
      },
      "source": [
        "# Standardazation\n",
        "\n",
        "######Next, we can finally scale the data using StandardScaler. The input columns are the features, and the output column with the rescaled that will be included in the scaled_df will be named \"features_scaled\":"
      ]
    },
    {
      "cell_type": "code",
      "metadata": {
        "id": "yZoSPPhCjAIA",
        "colab_type": "code",
        "colab": {}
      },
      "source": [
        "# initialization the satndatdScaler\n",
        "\n",
        "standard_scaler = StandardScaler(inputCol=\"features\", outputCol=\"features_scaled\")"
      ],
      "execution_count": 30,
      "outputs": []
    },
    {
      "cell_type": "code",
      "metadata": {
        "id": "TacHhTHNrMC1",
        "colab_type": "code",
        "colab": {}
      },
      "source": [
        "# Fit the DataFrame to the scaler\n",
        "scaled_df = standard_scaler.fit(assembler_df).transform(assembler_df)"
      ],
      "execution_count": 31,
      "outputs": []
    },
    {
      "cell_type": "code",
      "metadata": {
        "id": "kaUlZClpr9O5",
        "colab_type": "code",
        "colab": {
          "base_uri": "https://localhost:8080/",
          "height": 309
        },
        "outputId": "5c3f98b4-eeb5-447c-e750-93638434e997"
      },
      "source": [
        "# Inspect the result\n",
        "scaled_df.select(\"features\", \"features_scaled\").show(10, truncate=False)"
      ],
      "execution_count": 32,
      "outputs": [
        {
          "output_type": "stream",
          "text": [
            "+-------------------------------------------------------+--------------------------------------------------------------------------------------------------------------------------------------+\n",
            "|features                                               |features_scaled                                                                                                                       |\n",
            "+-------------------------------------------------------+--------------------------------------------------------------------------------------------------------------------------------------+\n",
            "|[129.0,322.0,126.0,8.325200080871582,6.98,2.56,0.15]   |[0.30623297630686513,0.2843362208866199,0.3295584480852433,4.38209543579743,2.8211223886115664,0.24648542140099877,2.5828740130262697]|\n",
            "|[1106.0,2401.0,1138.0,8.301400184631348,6.24,2.11,0.16]|[2.6255323394991694,2.1201592122632746,2.9764882057222772,4.36956799913841,2.522034914747303,0.20315790592035446,2.755065613894688]   |\n",
            "|[190.0,496.0,177.0,7.257400035858154,8.29,2.8,0.13]    |[0.451040817816313,0.4379837439744208,0.4629511532626037,3.820042673324032,3.3505880518037077,0.2695934296573424,2.238490811289434]   |\n",
            "|[235.0,558.0,219.0,5.643099784851074,5.82,2.55,0.18]   |[0.557866274667545,0.4927317119712234,0.5728039692910182,2.970331231769803,2.3522825647162344,0.2455225877236511,3.099448815631524]   |\n",
            "|[280.0,565.0,259.0,3.8461999893188477,6.28,2.18,0.17]  |[0.664691731518777,0.4989129341644108,0.6774256988418891,2.024505748166202,2.538201805226452,0.20989774166178804,2.9272572147631064]  |\n",
            "|[213.0,413.0,193.0,4.036799907684326,4.76,2.14,0.23]   |[0.5056404957624983,0.364692109398056,0.5047998450829521,2.124830908428931,1.9238599670187757,0.20604640695239743,3.960406819973614]  |\n",
            "|[489.0,1094.0,514.0,3.65910005569458,4.93,2.13,0.19]   |[1.1608366311167213,0.9660367256210006,1.344389224728691,1.9260228580003875,1.9925692515551605,0.20508357327504975,3.271640416499942] |\n",
            "|[687.0,1157.0,647.0,3.119999885559082,4.8,1.79,0.22]   |[1.6308686412621423,1.021667725359687,1.6922564754853369,1.6422593001231023,1.9400268574979251,0.1723472282452296,3.788215219105196]  |\n",
            "|[665.0,1206.0,595.0,2.080399990081787,4.29,2.03,0.26]  |[1.5786428623570954,1.0649362807119989,1.5562482270692046,1.0950501144251168,1.7338990038887707,0.19545523650157323,4.476981622578868]|\n",
            "|[707.0,1551.0,714.0,3.691200017929077,4.97,2.17,0.2]   |[1.678346622084912,1.3695822316619488,1.8674978724830456,1.9429191603871925,2.00873614203431,0.20893490798444037,3.44383201736836]    |\n",
            "+-------------------------------------------------------+--------------------------------------------------------------------------------------------------------------------------------------+\n",
            "only showing top 10 rows\n",
            "\n"
          ],
          "name": "stdout"
        }
      ]
    },
    {
      "cell_type": "markdown",
      "metadata": {
        "id": "NvNWA-OAsUzM",
        "colab_type": "text"
      },
      "source": [
        "# Building the ML model\n",
        "\n",
        "######we first need to split the data into training and test sets. Luckily, this is no issue with the randomSplit() method:"
      ]
    },
    {
      "cell_type": "code",
      "metadata": {
        "id": "WFhZ0ffBsIDp",
        "colab_type": "code",
        "colab": {}
      },
      "source": [
        "# Split the data into train and test sets\n",
        "train_data, test_date = scaled_df.randomSplit([0.8, 0.2], seed = rnd_seed)\n"
      ],
      "execution_count": 33,
      "outputs": []
    },
    {
      "cell_type": "code",
      "metadata": {
        "id": "1TAzq45rs4IG",
        "colab_type": "code",
        "colab": {
          "base_uri": "https://localhost:8080/",
          "height": 187
        },
        "outputId": "f8f3e27c-7f2c-4d0a-84ee-8d24de0f0d43"
      },
      "source": [
        "# lets check the train and test data\n",
        "train_data.columns"
      ],
      "execution_count": 34,
      "outputs": [
        {
          "output_type": "execute_result",
          "data": {
            "text/plain": [
              "['medhv',\n",
              " 'totbdrms',\n",
              " 'pop',\n",
              " 'houshlds',\n",
              " 'medinc',\n",
              " 'rmsperhh',\n",
              " 'popperhh',\n",
              " 'bdrmsperrm',\n",
              " 'features',\n",
              " 'features_scaled']"
            ]
          },
          "metadata": {
            "tags": []
          },
          "execution_count": 34
        }
      ]
    },
    {
      "cell_type": "code",
      "metadata": {
        "id": "ILaSJwTstQgS",
        "colab_type": "code",
        "colab": {}
      },
      "source": [
        "Lr = (LinearRegression(featuresCol='features_scaled', labelCol='medhv', predictionCol='predmedhv', maxIter=10, regParam=0.3, elasticNetParam=0.8, standardization=False))"
      ],
      "execution_count": 35,
      "outputs": []
    },
    {
      "cell_type": "code",
      "metadata": {
        "id": "Yk-cH5_Iz5AO",
        "colab_type": "code",
        "colab": {}
      },
      "source": [
        "# Fit the data to the model\n",
        "linearModel = Lr.fit(train_data)"
      ],
      "execution_count": 36,
      "outputs": []
    },
    {
      "cell_type": "markdown",
      "metadata": {
        "id": "0OxYaC620JJo",
        "colab_type": "text"
      },
      "source": [
        "#Evaluating the model"
      ]
    },
    {
      "cell_type": "code",
      "metadata": {
        "id": "p6raRuu10Cjb",
        "colab_type": "code",
        "colab": {
          "base_uri": "https://localhost:8080/",
          "height": 34
        },
        "outputId": "c13c85fb-c39c-43a5-8435-afbbdacfc78f"
      },
      "source": [
        "# lets check the coefficients \n",
        "# Coefficients for the model\n",
        "linearModel.coefficients"
      ],
      "execution_count": 37,
      "outputs": [
        {
          "output_type": "execute_result",
          "data": {
            "text/plain": [
              "DenseVector([0.0, 0.0, 0.0, 0.5262, 0.0, 0.0, 0.0])"
            ]
          },
          "metadata": {
            "tags": []
          },
          "execution_count": 37
        }
      ]
    },
    {
      "cell_type": "code",
      "metadata": {
        "id": "aDZLQAVN0O9A",
        "colab_type": "code",
        "colab": {
          "base_uri": "https://localhost:8080/",
          "height": 34
        },
        "outputId": "d8c3eed2-15da-4d2d-d349-8b296c443a68"
      },
      "source": [
        "selected_cols"
      ],
      "execution_count": 40,
      "outputs": [
        {
          "output_type": "execute_result",
          "data": {
            "text/plain": [
              "['totbdrms', 'pop', 'houshlds', 'medinc', 'rmsperhh', 'popperhh', 'bdrmsperrm']"
            ]
          },
          "metadata": {
            "tags": []
          },
          "execution_count": 40
        }
      ]
    },
    {
      "cell_type": "code",
      "metadata": {
        "id": "-pxzb0V8Eoc_",
        "colab_type": "code",
        "colab": {
          "base_uri": "https://localhost:8080/",
          "height": 34
        },
        "outputId": "b003a032-2700-4d15-fbc9-94dce3660484"
      },
      "source": [
        "intercept = linearModel.intercept\n",
        "intercept"
      ],
      "execution_count": 42,
      "outputs": [
        {
          "output_type": "execute_result",
          "data": {
            "text/plain": [
              "1.0013833516596085"
            ]
          },
          "metadata": {
            "tags": []
          },
          "execution_count": 42
        }
      ]
    },
    {
      "cell_type": "code",
      "metadata": {
        "id": "nCz-4wKjG0m-",
        "colab_type": "code",
        "colab": {}
      },
      "source": [
        "coeff_df = pd.DataFrame({\"features\":[\"intercept\"]+selected_cols, \"Co-efficients\":\n",
        "                         np.insert(linearModel.coefficients.toArray(), 0, linearModel.intercept)})\n",
        "\n",
        "coeff_df = coeff_df[[\"features\", \"Co-efficients\"]]\n"
      ],
      "execution_count": 44,
      "outputs": []
    },
    {
      "cell_type": "code",
      "metadata": {
        "id": "5QH3fRMeJi7P",
        "colab_type": "code",
        "colab": {
          "base_uri": "https://localhost:8080/",
          "height": 297
        },
        "outputId": "27241fc5-a9bd-4701-8c4e-be74a9a18f4e"
      },
      "source": [
        "coeff_df"
      ],
      "execution_count": 45,
      "outputs": [
        {
          "output_type": "execute_result",
          "data": {
            "text/html": [
              "<div>\n",
              "<style scoped>\n",
              "    .dataframe tbody tr th:only-of-type {\n",
              "        vertical-align: middle;\n",
              "    }\n",
              "\n",
              "    .dataframe tbody tr th {\n",
              "        vertical-align: top;\n",
              "    }\n",
              "\n",
              "    .dataframe thead th {\n",
              "        text-align: right;\n",
              "    }\n",
              "</style>\n",
              "<table border=\"1\" class=\"dataframe\">\n",
              "  <thead>\n",
              "    <tr style=\"text-align: right;\">\n",
              "      <th></th>\n",
              "      <th>features</th>\n",
              "      <th>Co-efficients</th>\n",
              "    </tr>\n",
              "  </thead>\n",
              "  <tbody>\n",
              "    <tr>\n",
              "      <th>0</th>\n",
              "      <td>intercept</td>\n",
              "      <td>1.001383</td>\n",
              "    </tr>\n",
              "    <tr>\n",
              "      <th>1</th>\n",
              "      <td>totbdrms</td>\n",
              "      <td>0.000000</td>\n",
              "    </tr>\n",
              "    <tr>\n",
              "      <th>2</th>\n",
              "      <td>pop</td>\n",
              "      <td>0.000000</td>\n",
              "    </tr>\n",
              "    <tr>\n",
              "      <th>3</th>\n",
              "      <td>houshlds</td>\n",
              "      <td>0.000000</td>\n",
              "    </tr>\n",
              "    <tr>\n",
              "      <th>4</th>\n",
              "      <td>medinc</td>\n",
              "      <td>0.526157</td>\n",
              "    </tr>\n",
              "    <tr>\n",
              "      <th>5</th>\n",
              "      <td>rmsperhh</td>\n",
              "      <td>0.000000</td>\n",
              "    </tr>\n",
              "    <tr>\n",
              "      <th>6</th>\n",
              "      <td>popperhh</td>\n",
              "      <td>0.000000</td>\n",
              "    </tr>\n",
              "    <tr>\n",
              "      <th>7</th>\n",
              "      <td>bdrmsperrm</td>\n",
              "      <td>0.000000</td>\n",
              "    </tr>\n",
              "  </tbody>\n",
              "</table>\n",
              "</div>"
            ],
            "text/plain": [
              "     features  Co-efficients\n",
              "0   intercept       1.001383\n",
              "1    totbdrms       0.000000\n",
              "2         pop       0.000000\n",
              "3    houshlds       0.000000\n",
              "4      medinc       0.526157\n",
              "5    rmsperhh       0.000000\n",
              "6    popperhh       0.000000\n",
              "7  bdrmsperrm       0.000000"
            ]
          },
          "metadata": {
            "tags": []
          },
          "execution_count": 45
        }
      ]
    },
    {
      "cell_type": "markdown",
      "metadata": {
        "id": "wF9_ivGzJvk0",
        "colab_type": "text"
      },
      "source": [
        "# Predictions"
      ]
    },
    {
      "cell_type": "code",
      "metadata": {
        "id": "Wm1SuM05JnLz",
        "colab_type": "code",
        "colab": {}
      },
      "source": [
        "# Generate predictions\n",
        "predictions = linearModel.transform(test_date)"
      ],
      "execution_count": 47,
      "outputs": []
    },
    {
      "cell_type": "code",
      "metadata": {
        "id": "dQJDmlhgKcDJ",
        "colab_type": "code",
        "colab": {
          "base_uri": "https://localhost:8080/",
          "height": 479
        },
        "outputId": "96130fb4-6329-40f9-fc13-f20dd883ff0c"
      },
      "source": [
        "predictions.show()"
      ],
      "execution_count": 48,
      "outputs": [
        {
          "output_type": "stream",
          "text": [
            "+-------+--------+------+--------+------+--------+--------+----------+--------------------+--------------------+------------------+\n",
            "|  medhv|totbdrms|   pop|houshlds|medinc|rmsperhh|popperhh|bdrmsperrm|            features|     features_scaled|         predmedhv|\n",
            "+-------+--------+------+--------+------+--------+--------+----------+--------------------+--------------------+------------------+\n",
            "|0.14999|    28.0|  18.0|     8.0| 0.536|   12.25|    2.25|      0.29|[28.0,18.0,8.0,0....|[0.06646917315187...|  1.14982901467337|\n",
            "|  0.225|   451.0|1230.0|   375.0|1.0918|    2.25|    3.28|      0.53|[451.0,1230.0,375...|[1.07062846755345...|1.3037582901805782|\n",
            "|  0.225|  1743.0|6835.0|  1439.0|2.7138|    6.93|    4.75|      0.17|[1743.0,6835.0,14...|[4.13770602870438...| 1.752972574315186|\n",
            "|  0.269|   543.0|1423.0|   482.0|2.1955|     5.7|    2.95|       0.2|[543.0,1423.0,482...|[1.28902717933819...|1.6094289295308724|\n",
            "|  0.344|   121.0| 530.0|   115.0|2.1458|    3.08|    4.61|      0.34|[121.0,530.0,115....|[0.28724178397775...|1.5956645319495768|\n",
            "|  0.367|   238.0| 425.0|   157.0|1.0486|    5.97|    2.71|      0.25|[238.0,425.0,157....|[0.56498797179096...|1.2917940087238426|\n",
            "|  0.375|    20.0|  39.0|    18.0| 3.125|    6.44|    2.17|      0.17|[20.0,39.0,18.0,3...|[0.04747798082276...|1.8668547795751218|\n",
            "|  0.394|   310.0| 779.0|   275.0|1.3289|    5.23|    2.83|      0.22|[310.0,779.0,275....|[0.73590870275293...| 1.369423339785637|\n",
            "|  0.398|   316.0| 672.0|   241.0|1.9107|    4.91|    2.79|      0.27|[316.0,672.0,241....|[0.75015209699976...|1.5305533439120043|\n",
            "|  0.409|   385.0|1434.0|   371.0|2.0586|    4.51|    3.87|      0.23|[385.0,1434.0,371...|[0.91395113083831...|1.5715143715849273|\n",
            "|  0.417|   415.0|1704.0|   395.0|1.1728|    3.91|    4.31|      0.27|[415.0,1704.0,395...|[0.98516810207247...|1.3261913014043998|\n",
            "|  0.425|    54.0| 145.0|    40.0|0.8252|    5.05|    3.63|      0.27|[54.0,145.0,40.0,...|[0.12819054822147...| 1.229923204690587|\n",
            "|  0.425|   373.0|1418.0|   357.0|1.7432|    4.12|    3.97|      0.25|[373.0,1418.0,357...|[0.88546434234465...|1.4841640700933143|\n",
            "|   0.43|   230.0| 742.0|   209.0|1.2625|    4.61|    3.55|      0.24|[230.0,742.0,209....|[0.54599677946185...|1.3510338217435218|\n",
            "|  0.436|   227.0| 764.0|   186.0|0.9407|    4.57|    4.11|      0.27|[227.0,764.0,186....|[0.53887508233843...|1.2619110212709588|\n",
            "|   0.44|   386.0| 775.0|   320.0|1.2049|    4.34|    2.42|      0.28|[386.0,775.0,320....|[0.91632502987945...|1.3350814464678744|\n",
            "|   0.44|   835.0|1908.0|   686.0|  1.74|    6.16|    2.78|       0.2|[835.0,1908.0,686...|[1.98220569935063...|1.4832778453641755|\n",
            "|  0.444|   441.0|1530.0|   391.0|1.5611|    4.46|    3.91|      0.25|[441.0,1530.0,391...|[1.04688947714207...|1.4337313361080328|\n",
            "|  0.445|   497.0|2002.0|   470.0|1.3278|    4.41|    4.26|      0.24|[497.0,2002.0,470...|[1.17982782344582...|1.3691187093204966|\n",
            "|  0.446|  2190.0|4781.0|  1919.0|1.7109|    4.55|    2.49|      0.25|[2190.0,4781.0,19...|[5.19883890009329...|  1.47521855868216|\n",
            "+-------+--------+------+--------+------+--------+--------+----------+--------------------+--------------------+------------------+\n",
            "only showing top 20 rows\n",
            "\n"
          ],
          "name": "stdout"
        }
      ]
    },
    {
      "cell_type": "code",
      "metadata": {
        "id": "eXp8oqLjJ82m",
        "colab_type": "code",
        "colab": {}
      },
      "source": [
        "# Extract the predictions and the \"known\" correct labels\n",
        "predandlabels = predictions.select(\"predmedhv\", \"medhv\")"
      ],
      "execution_count": 49,
      "outputs": []
    },
    {
      "cell_type": "code",
      "metadata": {
        "id": "JgzJ9fi4KoeL",
        "colab_type": "code",
        "colab": {
          "base_uri": "https://localhost:8080/",
          "height": 459
        },
        "outputId": "dd209fb3-1517-4c8c-f5e3-5467f85a1d0a"
      },
      "source": [
        "predandlabels.show()"
      ],
      "execution_count": 50,
      "outputs": [
        {
          "output_type": "stream",
          "text": [
            "+------------------+-------+\n",
            "|         predmedhv|  medhv|\n",
            "+------------------+-------+\n",
            "|  1.14982901467337|0.14999|\n",
            "|1.3037582901805782|  0.225|\n",
            "| 1.752972574315186|  0.225|\n",
            "|1.6094289295308724|  0.269|\n",
            "|1.5956645319495768|  0.344|\n",
            "|1.2917940087238426|  0.367|\n",
            "|1.8668547795751218|  0.375|\n",
            "| 1.369423339785637|  0.394|\n",
            "|1.5305533439120043|  0.398|\n",
            "|1.5715143715849273|  0.409|\n",
            "|1.3261913014043998|  0.417|\n",
            "| 1.229923204690587|  0.425|\n",
            "|1.4841640700933143|  0.425|\n",
            "|1.3510338217435218|   0.43|\n",
            "|1.2619110212709588|  0.436|\n",
            "|1.3350814464678744|   0.44|\n",
            "|1.4832778453641755|   0.44|\n",
            "|1.4337313361080328|  0.444|\n",
            "|1.3691187093204966|  0.445|\n",
            "|  1.47521855868216|  0.446|\n",
            "+------------------+-------+\n",
            "only showing top 20 rows\n",
            "\n"
          ],
          "name": "stdout"
        }
      ]
    },
    {
      "cell_type": "markdown",
      "metadata": {
        "id": "6_opU7N7KzjF",
        "colab_type": "text"
      },
      "source": [
        "# Metrics"
      ]
    },
    {
      "cell_type": "markdown",
      "metadata": {
        "id": "jfHgkww8K5dK",
        "colab_type": "text"
      },
      "source": [
        "##### lets see how our model is performinng using RMSE, R2 and MAE"
      ]
    },
    {
      "cell_type": "code",
      "metadata": {
        "id": "Sx5EElELKsne",
        "colab_type": "code",
        "colab": {
          "base_uri": "https://localhost:8080/",
          "height": 34
        },
        "outputId": "02ca3c35-0bec-4a90-9830-29e07aff5d7c"
      },
      "source": [
        "# Get the RMSE\n",
        "print(\"RMSE: {0}\".format(linearModel.summary.rootMeanSquaredError))"
      ],
      "execution_count": 51,
      "outputs": [
        {
          "output_type": "stream",
          "text": [
            "RMSE: 0.8819852045268861\n"
          ],
          "name": "stdout"
        }
      ]
    },
    {
      "cell_type": "code",
      "metadata": {
        "id": "ih5CUcOpLNy8",
        "colab_type": "code",
        "colab": {
          "base_uri": "https://localhost:8080/",
          "height": 34
        },
        "outputId": "d4669fbf-997e-4f20-89be-fe4db2e72ca7"
      },
      "source": [
        "#MAE\n",
        "print(\"MAE: {0}\".format(linearModel.summary.meanAbsoluteError))"
      ],
      "execution_count": 52,
      "outputs": [
        {
          "output_type": "stream",
          "text": [
            "MAE: 0.6782895319917991\n"
          ],
          "name": "stdout"
        }
      ]
    },
    {
      "cell_type": "code",
      "metadata": {
        "id": "KJI1ykrHLV7q",
        "colab_type": "code",
        "colab": {
          "base_uri": "https://localhost:8080/",
          "height": 34
        },
        "outputId": "1b216f0f-a585-46b0-f715-f0633493d795"
      },
      "source": [
        "# Get the R2\n",
        "print(\"R2: {0}\".format(linearModel.summary.r2))"
      ],
      "execution_count": 53,
      "outputs": [
        {
          "output_type": "stream",
          "text": [
            "R2: 0.4180854895364573\n"
          ],
          "name": "stdout"
        }
      ]
    },
    {
      "cell_type": "markdown",
      "metadata": {
        "id": "VgNgDgG6LkYf",
        "colab_type": "text"
      },
      "source": [
        "#####The RMSE measures how much error there is between two datasets comparing a predicted value and an observed or known value. The smaller an RMSE value, the closer predicted and observed values are.\n",
        "\n"
      ]
    },
    {
      "cell_type": "markdown",
      "metadata": {
        "id": "89zLVp4OL1MB",
        "colab_type": "text"
      },
      "source": [
        "######The R2 (\"R squared\") or the coefficient of determination is a measure that shows how close the data are to the fitted regression line. This score will always be between 0 and a 100% (or 0 to 1 in this case), where 0% indicates that the model explains none of the variability of the response data around its mean, and 100% indicates the opposite: it explains all the variability. That means that, in general, the higher the R-squared, the better the model fits our data."
      ]
    },
    {
      "cell_type": "markdown",
      "metadata": {
        "id": "Y442NxNCL9Ty",
        "colab_type": "text"
      },
      "source": [
        "###Using the RegressionEvaluator from pyspark.ml package:"
      ]
    },
    {
      "cell_type": "code",
      "metadata": {
        "id": "0auAH_w8LciJ",
        "colab_type": "code",
        "colab": {
          "base_uri": "https://localhost:8080/",
          "height": 34
        },
        "outputId": "5cd7e2ca-5a0c-4018-d4ae-ecb58efb34fd"
      },
      "source": [
        "evaluator = RegressionEvaluator(predictionCol=\"predmedhv\", labelCol='medhv', metricName='rmse')\n",
        "\n",
        "print(\"RMSE: {0}\".format(evaluator.evaluate(predandlabels)))"
      ],
      "execution_count": 55,
      "outputs": [
        {
          "output_type": "stream",
          "text": [
            "RMSE: 0.8677342923034236\n"
          ],
          "name": "stdout"
        }
      ]
    },
    {
      "cell_type": "code",
      "metadata": {
        "id": "kLLF4phwL8k8",
        "colab_type": "code",
        "colab": {
          "base_uri": "https://localhost:8080/",
          "height": 34
        },
        "outputId": "7af85ea8-f615-4894-9123-f26e3910547d"
      },
      "source": [
        "evaluator = RegressionEvaluator(predictionCol=\"predmedhv\", labelCol='medhv', metricName='mae')\n",
        "\n",
        "print(\"MAE: {0}\".format(evaluator.evaluate(predandlabels)))\n"
      ],
      "execution_count": 56,
      "outputs": [
        {
          "output_type": "stream",
          "text": [
            "MAE: 0.6736097745764633\n"
          ],
          "name": "stdout"
        }
      ]
    },
    {
      "cell_type": "code",
      "metadata": {
        "id": "rTMmNbkOMRe5",
        "colab_type": "code",
        "colab": {
          "base_uri": "https://localhost:8080/",
          "height": 34
        },
        "outputId": "c2eab073-3c21-4e0e-995c-5e11dcacb45d"
      },
      "source": [
        "evaluator = RegressionEvaluator(predictionCol=\"predmedhv\", labelCol='medhv', metricName='r2')\n",
        "\n",
        "print(\"R2: {0}\".format(evaluator.evaluate(predandlabels)))"
      ],
      "execution_count": 57,
      "outputs": [
        {
          "output_type": "stream",
          "text": [
            "R2: 0.42517112885139363\n"
          ],
          "name": "stdout"
        }
      ]
    },
    {
      "cell_type": "markdown",
      "metadata": {
        "id": "R1TP3yWmMlIC",
        "colab_type": "text"
      },
      "source": [
        "###Using the RegressionMetrics from pyspark.mllib package:"
      ]
    },
    {
      "cell_type": "code",
      "metadata": {
        "id": "agEsMQXRMYFf",
        "colab_type": "code",
        "colab": {
          "base_uri": "https://localhost:8080/",
          "height": 34
        },
        "outputId": "4b1eef70-763c-4d54-e60e-beb5e3c210a3"
      },
      "source": [
        "# mllib is old so the methods are available in rdd\n",
        "metrics = RegressionMetrics(predandlabels.rdd)\n",
        "\n",
        "print(\"RMSE: {0}\".format(metrics.rootMeanSquaredError))"
      ],
      "execution_count": 58,
      "outputs": [
        {
          "output_type": "stream",
          "text": [
            "RMSE: 0.8677342923034236\n"
          ],
          "name": "stdout"
        }
      ]
    },
    {
      "cell_type": "code",
      "metadata": {
        "id": "T0-U6tbFMyg7",
        "colab_type": "code",
        "colab": {
          "base_uri": "https://localhost:8080/",
          "height": 34
        },
        "outputId": "fcf3d85c-45e4-43ea-8740-bc891a1032e5"
      },
      "source": [
        "print(\"MAE: {0}\".format(metrics.meanAbsoluteError))"
      ],
      "execution_count": 59,
      "outputs": [
        {
          "output_type": "stream",
          "text": [
            "MAE: 0.6736097745764633\n"
          ],
          "name": "stdout"
        }
      ]
    },
    {
      "cell_type": "code",
      "metadata": {
        "id": "NT1xcy3BM2F6",
        "colab_type": "code",
        "colab": {
          "base_uri": "https://localhost:8080/",
          "height": 34
        },
        "outputId": "820d2d2c-2987-45df-9ba4-10842a674bad"
      },
      "source": [
        "print(\"R2: {0}\".format(metrics.r2))"
      ],
      "execution_count": 60,
      "outputs": [
        {
          "output_type": "stream",
          "text": [
            "R2: 0.42517112885139363\n"
          ],
          "name": "stdout"
        }
      ]
    },
    {
      "cell_type": "markdown",
      "metadata": {
        "id": "wLGHeR71NCE2",
        "colab_type": "text"
      },
      "source": [
        "#####There's definitely some improvements needed to our model! If we want to continue with this model, we can play around with the parameters that we passed to our model, the variables that we included in our original DataFrame."
      ]
    },
    {
      "cell_type": "code",
      "metadata": {
        "id": "uol6o0uhM-8G",
        "colab_type": "code",
        "colab": {}
      },
      "source": [
        ""
      ],
      "execution_count": null,
      "outputs": []
    }
  ]
}